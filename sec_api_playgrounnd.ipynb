{
 "cells": [
  {
   "cell_type": "code",
   "execution_count": 5,
   "id": "444f2b70-a3ef-4564-9e40-204ad3b878b3",
   "metadata": {},
   "outputs": [],
   "source": [
    "import os\n",
    "import yfinance as yf\n",
    "from pandas_datareader import data as pdr\n",
    "\n",
    "\n",
    "from dotenv import load_dotenv, find_dotenv\n",
    "_ = load_dotenv(find_dotenv()) # read local .env file"
   ]
  },
  {
   "cell_type": "code",
   "execution_count": 6,
   "id": "66f4e70c-bf57-47b1-9dc1-80358797e354",
   "metadata": {},
   "outputs": [],
   "source": [
    "# SEC_API_KEY = os.getenv('SEC_API_KEY')"
   ]
  },
  {
   "cell_type": "markdown",
   "id": "24231922-797a-4e70-82a8-b669bafc5a8a",
   "metadata": {},
   "source": [
    "Download tickers for the S&P 500 from Wiki"
   ]
  },
  {
   "cell_type": "code",
   "execution_count": 7,
   "id": "6428ba5f-a547-494a-a3d7-1a5e2880a826",
   "metadata": {},
   "outputs": [],
   "source": [
    "import requests\n",
    "import pandas as pd\n",
    "\n",
    "url = 'https://en.wikipedia.org/wiki/List_of_S%26P_500_companies'\n",
    "response = requests.get(url)\n",
    "sp500_data = pd.read_html(response.text)\n",
    "sp500_table = sp500_data[0]\n",
    "sp500_tickers = sp500_table['Symbol'].tolist()"
   ]
  },
  {
   "cell_type": "code",
   "execution_count": 15,
   "id": "0af3cb35-d362-4ecb-b53e-25431f55eb9a",
   "metadata": {},
   "outputs": [
    {
     "name": "stdout",
     "output_type": "stream",
     "text": [
      "Error occurred while downloading filing for accession number {}: {} 0001656423-23-000013 404 Client Error: Not Found for url: https://www.sec.gov/Archives/edgar/data/103754/000165642323000013/0001656423-23-000013.txt\n",
      "Error with:  BF.B\n",
      "Error occurred while downloading filing for accession number {}: {} 0001170010-23-000010 404 Client Error: Not Found for url: https://www.sec.gov/Archives/edgar/data/117001/000117001023000010/0001170010-23-000010.txt\n",
      "Error occurred while downloading filing for accession number {}: {} 0001783180-23-000012 404 Client Error: Not Found for url: https://www.sec.gov/Archives/edgar/data/178318/000178318023000012/0001783180-23-000012.txt\n",
      "Error occurred while downloading filing for accession number {}: {} 0000018230-23-000011 404 Client Error: Not Found for url: https://www.sec.gov/Archives/edgar/data/1823/000001823023000011/0000018230-23-000011.txt\n",
      "Error occurred while downloading filing for accession number {}: {} 0001558370-23-001489 404 Client Error: Not Found for url: https://www.sec.gov/Archives/edgar/data/137431/000155837023001489/0001558370-23-001489.txt\n",
      "Error occurred while downloading filing for accession number {}: {} 0001306830-23-000023 404 Client Error: Not Found for url: https://www.sec.gov/Archives/edgar/data/130683/000130683023000023/0001306830-23-000023.txt\n",
      "Error occurred while downloading filing for accession number {}: {} 0001130310-23-000013 404 Client Error: Not Found for url: https://www.sec.gov/Archives/edgar/data/113031/000113031023000013/0001130310-23-000013.txt\n",
      "Error occurred while downloading filing for accession number {}: {} 0000093410-23-000009 404 Client Error: Not Found for url: https://www.sec.gov/Archives/edgar/data/9341/000009341023000009/0000093410-23-000009.txt\n",
      "Error occurred while downloading filing for accession number {}: {} 0001058090-23-000010 404 Client Error: Not Found for url: https://www.sec.gov/Archives/edgar/data/105809/000105809023000010/0001058090-23-000010.txt\n",
      "Error occurred while downloading filing for accession number {}: {} 0001739940-23-000008 404 Client Error: Not Found for url: https://www.sec.gov/Archives/edgar/data/173994/000173994023000008/0001739940-23-000008.txt\n",
      "Error occurred while downloading filing for accession number {}: {} 0001058290-23-000027 404 Client Error: Not Found for url: https://www.sec.gov/Archives/edgar/data/105829/000105829023000027/0001058290-23-000027.txt\n",
      "Error occurred while downloading filing for accession number {}: {} 0000858470-23-000011 404 Client Error: Not Found for url: https://www.sec.gov/Archives/edgar/data/85847/000085847023000011/0000858470-23-000011.txt\n",
      "Error occurred while downloading filing for accession number {}: {} 0001051470-23-000041 404 Client Error: Not Found for url: https://www.sec.gov/Archives/edgar/data/105147/000105147023000041/0001051470-23-000041.txt\n",
      "Error occurred while downloading filing for accession number {}: {} 0000936340-23-000073 404 Client Error: Not Found for url: https://www.sec.gov/Archives/edgar/data/93634/000093634023000073/0000936340-23-000073.txt\n",
      "Error occurred while downloading filing for accession number {}: {} 0001326160-23-000073 404 Client Error: Not Found for url: https://www.sec.gov/Archives/edgar/data/132616/000132616023000073/0001326160-23-000073.txt\n",
      "Error occurred while downloading filing for accession number {}: {} 0001666700-23-000008 404 Client Error: Not Found for url: https://www.sec.gov/Archives/edgar/data/16667/000166670023000008/0001666700-23-000008.txt\n",
      "Error occurred while downloading filing for accession number {}: {} 0001099800-23-000005 404 Client Error: Not Found for url: https://www.sec.gov/Archives/edgar/data/10998/000109980023000005/0001099800-23-000005.txt\n",
      "Error occurred while downloading filing for accession number {}: {} 0001352010-23-000013 404 Client Error: Not Found for url: https://www.sec.gov/Archives/edgar/data/135201/000135201023000013/0001352010-23-000013.txt\n",
      "Error occurred while downloading filing for accession number {}: {} 0001001250-23-000112 404 Client Error: Not Found for url: https://www.sec.gov/Archives/edgar/data/100125/000100125023000112/0001001250-23-000112.txt\n",
      "Error occurred while downloading filing for accession number {}: {} 0001628280-23-005628 404 Client Error: Not Found for url: https://www.sec.gov/Archives/edgar/data/128949/000162828023005628/0001628280-23-005628.txt\n",
      "Error occurred while downloading filing for accession number {}: {} 0001123360-23-000009 404 Client Error: Not Found for url: https://www.sec.gov/Archives/edgar/data/112336/000112336023000009/0001123360-23-000009.txt\n",
      "Error occurred while downloading filing for accession number {}: {} 0000046080-23-000017 404 Client Error: Not Found for url: https://www.sec.gov/Archives/edgar/data/4608/000004608023000017/0000046080-23-000017.txt\n",
      "Error occurred while downloading filing for accession number {}: {} 0000950170-23-003234 404 Client Error: Not Found for url: https://www.sec.gov/Archives/edgar/data/86073/000095017023003234/0000950170-23-003234.txt\n",
      "Error occurred while downloading filing for accession number {}: {} 0001628280-23-002794 404 Client Error: Not Found for url: https://www.sec.gov/Archives/edgar/data/76588/000162828023002794/0001628280-23-002794.txt\n",
      "Error occurred while downloading filing for accession number {}: {} 0001645590-22-000071 404 Client Error: Not Found for url: https://www.sec.gov/Archives/edgar/data/164559/000164559022000071/0001645590-22-000071.txt\n",
      "Error occurred while downloading filing for accession number {}: {} 0000354950-23-000059 404 Client Error: Not Found for url: https://www.sec.gov/Archives/edgar/data/35495/000035495023000059/0000354950-23-000059.txt\n",
      "Error occurred while downloading filing for accession number {}: {} 0000773840-23-000013 404 Client Error: Not Found for url: https://www.sec.gov/Archives/edgar/data/77384/000077384023000013/0000773840-23-000013.txt\n",
      "Error occurred while downloading filing for accession number {}: {} 0000950170-23-003778 404 Client Error: Not Found for url: https://www.sec.gov/Archives/edgar/data/107075/000095017023003778/0000950170-23-003778.txt\n",
      "Error occurred while downloading filing for accession number {}: {} 0001628280-23-004287 404 Client Error: Not Found for url: https://www.sec.gov/Archives/edgar/data/169915/000162828023004287/0001628280-23-004287.txt\n",
      "Error with:  LHX\n",
      "Error with:  LH\n",
      "Error with:  LRCX\n",
      "Error with:  LW\n",
      "Error with:  LVS\n",
      "Error with:  LDOS\n",
      "Error with:  LEN\n",
      "Error with:  LYV\n",
      "Error with:  LKQ\n",
      "Error with:  LMT\n",
      "Error with:  L\n",
      "Error with:  LOW\n",
      "Error occurred while downloading filing for accession number {}: {} 0000950170-23-003804 404 Client Error: Not Found for url: https://www.sec.gov/Archives/edgar/data/3627/000095017023003804/0000950170-23-003804.txt\n",
      "Error occurred while downloading filing for accession number {}: {} 0000789570-23-000008 404 Client Error: Not Found for url: https://www.sec.gov/Archives/edgar/data/78957/000078957023000008/0000789570-23-000008.txt\n",
      "Error occurred while downloading filing for accession number {}: {} 0001065280-23-000035 404 Client Error: Not Found for url: https://www.sec.gov/Archives/edgar/data/106528/000106528023000035/0001065280-23-000035.txt\n",
      "Error occurred while downloading filing for accession number {}: {} 0001045810-23-000017 404 Client Error: Not Found for url: https://www.sec.gov/Archives/edgar/data/104581/000104581023000017/0001045810-23-000017.txt\n",
      "Error occurred while downloading filing for accession number {}: {} 0000077360-23-000006 404 Client Error: Not Found for url: https://www.sec.gov/Archives/edgar/data/7736/000007736023000006/0000077360-23-000006.txt\n",
      "Error occurred while downloading filing for accession number {}: {} 0001004980-23-000029 404 Client Error: Not Found for url: https://www.sec.gov/Archives/edgar/data/100498/000100498023000029/0001004980-23-000029.txt\n",
      "Error occurred while downloading filing for accession number {}: {} 0000064040-23-000058 404 Client Error: Not Found for url: https://www.sec.gov/Archives/edgar/data/6404/000006404023000058/0000064040-23-000058.txt\n",
      "Error occurred while downloading filing for accession number {}: {} 0001628280-23-004277 404 Client Error: Not Found for url: https://www.sec.gov/Archives/edgar/data/10121/000162828023004277/0001628280-23-004277.txt\n",
      "Error occurred while downloading filing for accession number {}: {} 0000089800-23-000007 404 Client Error: Not Found for url: https://www.sec.gov/Archives/edgar/data/898/000008980023000007/0000089800-23-000007.txt\n",
      "Error occurred while downloading filing for accession number {}: {} 0000091440-23-000005 404 Client Error: Not Found for url: https://www.sec.gov/Archives/edgar/data/9144/000009144023000005/0000091440-23-000005.txt\n",
      "Error occurred while downloading filing for accession number {}: {} 0000092380-23-000010 404 Client Error: Not Found for url: https://www.sec.gov/Archives/edgar/data/9238/000009238023000010/0000092380-23-000010.txt\n",
      "Error occurred while downloading filing for accession number {}: {} 0000950170-23-003797 404 Client Error: Not Found for url: https://www.sec.gov/Archives/edgar/data/138917/000095017023003797/0000950170-23-003797.txt\n",
      "Error occurred while downloading filing for accession number {}: {} 0001193125-23-044711 404 Client Error: Not Found for url: https://www.sec.gov/Archives/edgar/data/9721/000119312523044711/0001193125-23-044711.txt\n",
      "Error occurred while downloading filing for accession number {}: {} 0000092230-23-000034 404 Client Error: Not Found for url: https://www.sec.gov/Archives/edgar/data/9223/000009223023000034/0000092230-23-000034.txt\n",
      "Error occurred while downloading filing for accession number {}: {} 0000740260-23-000070 404 Client Error: Not Found for url: https://www.sec.gov/Archives/edgar/data/74026/000074026023000070/0000740260-23-000070.txt\n",
      "Error occurred while downloading filing for accession number {}: {} 0000875320-23-000007 404 Client Error: Not Found for url: https://www.sec.gov/Archives/edgar/data/87532/000087532023000007/0000875320-23-000007.txt\n",
      "Error occurred while downloading filing for accession number {}: {} 0000105770-23-000012 404 Client Error: Not Found for url: https://www.sec.gov/Archives/edgar/data/10577/000010577023000012/0000105770-23-000012.txt\n",
      "Error occurred while downloading filing for accession number {}: {} 0000106040-23-000024 404 Client Error: Not Found for url: https://www.sec.gov/Archives/edgar/data/10604/000010604023000024/0000106040-23-000024.txt\n",
      "Error occurred while downloading filing for accession number {}: {} 0000106640-23-000015 404 Client Error: Not Found for url: https://www.sec.gov/Archives/edgar/data/10664/000010664023000015/0000106640-23-000015.txt\n",
      "Error occurred while downloading filing for accession number {}: {} 0000109380-23-000074 404 Client Error: Not Found for url: https://www.sec.gov/Archives/edgar/data/10938/000010938023000074/0000109380-23-000074.txt\n",
      "Error occurred while downloading filing for accession number {}: {} 0001555280-23-000074 404 Client Error: Not Found for url: https://www.sec.gov/Archives/edgar/data/155528/000155528023000074/0001555280-23-000074.txt\n"
     ]
    }
   ],
   "source": [
    "from sec_edgar_downloader import Downloader\n",
    "\n",
    "# dl = Downloader(\"reports\")\n",
    "dl = Downloader(\"reports\", \"ygonzalez704@gmail.com\")\n",
    "\n",
    "for company in remaining_tickers:\n",
    "    try:\n",
    "        dl.get(\"10-K\", company, limit=1)\n",
    "    except:\n",
    "        print('Error with: ', company)"
   ]
  },
  {
   "cell_type": "code",
   "execution_count": null,
   "id": "470566ed-d6a7-4f75-99c6-46457c1edb95",
   "metadata": {},
   "outputs": [],
   "source": []
  }
 ],
 "metadata": {
  "kernelspec": {
   "display_name": "Python 3 (ipykernel)",
   "language": "python",
   "name": "python3"
  },
  "language_info": {
   "codemirror_mode": {
    "name": "ipython",
    "version": 3
   },
   "file_extension": ".py",
   "mimetype": "text/x-python",
   "name": "python",
   "nbconvert_exporter": "python",
   "pygments_lexer": "ipython3",
   "version": "3.9.13"
  }
 },
 "nbformat": 4,
 "nbformat_minor": 5
}
