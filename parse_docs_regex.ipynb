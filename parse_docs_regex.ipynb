{
 "cells": [
  {
   "cell_type": "markdown",
   "id": "2e816cde-9d6c-4d38-96c8-6d10dd3f4052",
   "metadata": {},
   "source": [
    "https://gist.github.com/anshoomehra/ead8925ea291e233a5aa2dcaa2dc61b2"
   ]
  },
  {
   "cell_type": "code",
   "execution_count": 1,
   "id": "5f0318b7-53d7-4970-965d-2b0dfe388227",
   "metadata": {},
   "outputs": [],
   "source": [
    "# Import requests to retrive Web Urls example HTML. TXT \n",
    "import requests\n",
    "\n",
    "# Import BeautifulSoup\n",
    "from bs4 import BeautifulSoup\n",
    "\n",
    "# import re module for REGEXes\n",
    "import re\n",
    "\n",
    "# import pandas\n",
    "import pandas as pd"
   ]
  },
  {
   "cell_type": "code",
   "execution_count": 5,
   "id": "6df01919-5156-44a2-b769-ad571a9616ee",
   "metadata": {},
   "outputs": [],
   "source": [
    "with open('sec-edgar-filings/AES/10-K/0000874761-23-000010/full-submission.txt', 'r') as file:\n",
    "    raw_10k = file.read()\n"
   ]
  },
  {
   "cell_type": "code",
   "execution_count": 6,
   "id": "8142a21e-6b0a-45e1-aa4f-f0826f832b1d",
   "metadata": {},
   "outputs": [
    {
     "name": "stdout",
     "output_type": "stream",
     "text": [
      "<SEC-DOCUMENT>0000874761-23-000010.txt : 20230301\n",
      "<SEC-HEADER>0000874761-23-000010.hdr.sgml : 20230301\n",
      "<ACCEPTANCE-DATETIME>20230301164429\n",
      "ACCESSION NUMBER:\t\t0000874761-23-000010\n",
      "CONFORMED SUBMISSION TYPE:\t10-K\n",
      "PUBLIC DOCUMENT COUNT:\t\t229\n",
      "CONFORMED PERIOD OF REPORT:\t20221231\n",
      "FILED AS OF DATE:\t\t20230301\n",
      "DATE AS OF CHANGE:\t\t20230301\n",
      "\n",
      "FILER:\n",
      "\n",
      "\tCOMPANY DATA:\t\n",
      "\t\tCOMPANY CONFORMED NAME:\t\t\tAES CORP\n",
      "\t\tCENTRAL INDEX KEY:\t\t\t0000874761\n",
      "\t\tSTANDARD INDUSTRIAL CLASSIFICATION:\tCOGENERATION SERVICES & SMALL POWER PRODUCERS [4991]\n",
      "\t\tIRS NUMBER:\t\t\t\t541163725\n",
      "\t\tSTATE OF INCORPORATION:\t\t\tDE\n",
      "\t\tFISCAL YEAR END:\t\t\t1231\n",
      "\n",
      "\tFILING VALUES:\n",
      "\t\tFORM TYPE:\t\t10-K\n",
      "\t\tSEC ACT:\t\t1934 Act\n",
      "\t\tSEC FILE NUMBER:\t001-12291\n",
      "\t\tFILM NUMBER:\t\t23694366\n",
      "\n",
      "\tBUSINESS ADDRESS:\t\n",
      "\t\tSTREET 1:\t\t4300 WILSON BOULEVARD\n",
      "\t\tCITY:\t\t\tARLINGTON\n",
      "\t\tSTATE:\t\t\tVA\n",
      "\t\tZIP:\t\t\t22203\n",
      "\t\tBUSINESS PHONE:\t\t7035221315\n",
      "\n",
      "\tMAIL ADDRESS:\t\n",
      "\t\tSTREET 1:\t\t4300 WILSON BOULEVARD\n",
      "\t\tCITY:\t\t\tARLINGTON\n",
      "\t\tSTATE:\t\t\tVA\n",
      "\t\tZIP:\t\t\t22203\n",
      "\n",
      "\tFORMER COMPANY:\t\n",
      "\t\tFORMER CONFORMED NAME:\tAES CORPORATION\n",
      "\t\tDATE OF NAME CHANGE:\t19930328\n",
      "</SEC-HEADER>\n",
      "<DOCUMENT>\n",
      "<TYPE>10-K\n",
      "<SEQUENCE>1\n",
      "<FILENAME>aes-20221231.htm\n",
      "<DESCRIPTION>10-K\n",
      "<TEXT>\n",
      "<XBRL>\n",
      "<?xml version=\"1.0\" ?><!--XBRL Document Created with Wdesk from Workiva--><!--Copyright 2023 Workiva--><!--r:82161566-b5d4-463c-bc19-3799237b023b,g:8f\n"
     ]
    }
   ],
   "source": [
    "print(raw_10k[0:1300])"
   ]
  },
  {
   "cell_type": "code",
   "execution_count": 7,
   "id": "40404016-cb69-4343-9ae6-1475cb98401c",
   "metadata": {},
   "outputs": [],
   "source": [
    "# Regex to find <DOCUMENT> tags\n",
    "doc_start_pattern = re.compile(r'<DOCUMENT>')\n",
    "doc_end_pattern = re.compile(r'</DOCUMENT>')\n",
    "# Regex to find <TYPE> tag prceeding any characters, terminating at new line\n",
    "type_pattern = re.compile(r'<TYPE>[^\\n]+')"
   ]
  },
  {
   "cell_type": "code",
   "execution_count": 8,
   "id": "abcfa156-1ec4-4f8d-99f7-d3bf39317ed8",
   "metadata": {},
   "outputs": [],
   "source": [
    "# Create 3 lists with the span idices for each regex\n",
    "\n",
    "### There are many <Document> Tags in this text file, each as specific exhibit like 10-K, EX-10.17 etc\n",
    "### First filter will give us document tag start <end> and document tag end's <start> \n",
    "### We will use this to later grab content in between these tags\n",
    "doc_start_is = [x.end() for x in doc_start_pattern.finditer(raw_10k)]\n",
    "doc_end_is = [x.start() for x in doc_end_pattern.finditer(raw_10k)]\n",
    "\n",
    "### Type filter is interesting, it looks for <TYPE> with Not flag as new line, ie terminare there, with + sign\n",
    "### to look for any char afterwards until new line \\n. This will give us <TYPE> followed Section Name like '10-K'\n",
    "### Once we have have this, it returns String Array, below line will with find content after <TYPE> ie, '10-K' \n",
    "### as section names\n",
    "doc_types = [x[len('<TYPE>'):] for x in type_pattern.findall(raw_10k)]"
   ]
  },
  {
   "cell_type": "code",
   "execution_count": 9,
   "id": "ccd5b816-81cd-4369-aea7-f624d824a199",
   "metadata": {},
   "outputs": [],
   "source": [
    "document = {}\n",
    "\n",
    "# Create a loop to go through each section type and save only the 10-K section in the dictionary\n",
    "for doc_type, doc_start, doc_end in zip(doc_types, doc_start_is, doc_end_is):\n",
    "    if doc_type == '10-K':\n",
    "        document[doc_type] = raw_10k[doc_start:doc_end]"
   ]
  },
  {
   "cell_type": "code",
   "execution_count": 10,
   "id": "2ae5f5b4-10b9-4c5c-9e56-f9af6c1d95e2",
   "metadata": {},
   "outputs": [
    {
     "data": {
      "text/plain": [
       "'\\n<TYPE>10-K\\n<SEQUENCE>1\\n<FILENAME>aes-20221231.htm\\n<DESCRIPTION>10-K\\n<TEXT>\\n<XBRL>\\n<?xml version=\"1.0\" ?><!--XBRL Document Created with Wdesk from Workiva--><!--Copyright 2023 Workiva--><!--r:82161566-b5d4-463c-bc19-3799237b023b,g:8f97136d-1a4b-4b31-9d3f-870eb6982d60,d:84f31ef528bc41899c5480059e42eda9--><html xmlns:xbrldi=\"http://xbrl.org/2006/xbrldi\" xmlns:aes=\"http://www.aes.com/20221231\" xmlns:utr=\"http://www.xbrl.org/2009/utr\" xmlns:ix=\"http://www.xbrl.org/2013/inlineXBRL\" xmlns=\"http://www.'"
      ]
     },
     "execution_count": 10,
     "metadata": {},
     "output_type": "execute_result"
    }
   ],
   "source": [
    "# display excerpt the document\n",
    "document['10-K'][0:500]"
   ]
  },
  {
   "cell_type": "code",
   "execution_count": 37,
   "id": "f61e896c-6de4-4b9a-b02c-f5cf3b45c46a",
   "metadata": {},
   "outputs": [
    {
     "name": "stdout",
     "output_type": "stream",
     "text": [
      "<re.Match object; span=(811500, 811513), match='ITEM&#160;1A.'>\n",
      "<re.Match object; span=(812356, 812369), match='ITEM&#160;1B.'>\n",
      "<re.Match object; span=(813225, 813237), match='ITEM&#160;2.'>\n",
      "<re.Match object; span=(814078, 814090), match='ITEM&#160;3.'>\n",
      "<re.Match object; span=(814938, 814950), match='ITEM&#160;4.'>\n",
      "<re.Match object; span=(816641, 816648), match='ITEM 5.'>\n",
      "<re.Match object; span=(817622, 817634), match='ITEM&#160;6.'>\n",
      "<re.Match object; span=(818489, 818501), match='ITEM&#160;7.'>\n",
      "<re.Match object; span=(824757, 824768), match='ITEM&#160;7'>\n",
      "<re.Match object; span=(825662, 825674), match='ITEM&#160;8.'>\n",
      "<re.Match object; span=(857128, 857140), match='ITEM&#160;9.'>\n",
      "<re.Match object; span=(858058, 858071), match='ITEM&#160;9A.'>\n",
      "<re.Match object; span=(858928, 858941), match='ITEM&#160;9B.'>\n",
      "<re.Match object; span=(859792, 859798), match='ITEM 9'>\n",
      "<re.Match object; span=(861539, 861552), match='ITEM&#160;10.'>\n",
      "<re.Match object; span=(862469, 862482), match='ITEM&#160;11.'>\n",
      "<re.Match object; span=(863338, 863346), match='ITEM 12.'>\n",
      "<re.Match object; span=(864274, 864287), match='ITEM&#160;13.'>\n",
      "<re.Match object; span=(865200, 865213), match='ITEM&#160;14.'>\n",
      "<re.Match object; span=(865889, 865897), match='ITEM 15.'>\n",
      "<re.Match object; span=(1809543, 1809556), match='ITEM&#160;1A.'>\n",
      "<re.Match object; span=(1975382, 1975390), match='ITEM 1B.'>\n",
      "<re.Match object; span=(1975844, 1975851), match='ITEM 2.'>\n",
      "<re.Match object; span=(1977374, 1977386), match='ITEM&#160;3.'>\n",
      "<re.Match object; span=(2006440, 2006452), match='ITEM&#160;4.'>\n",
      "<re.Match object; span=(2007956, 2007963), match='ITEM 5.'>\n",
      "<re.Match object; span=(2020064, 2020071), match='ITEM 6.'>\n",
      "<re.Match object; span=(2104672, 2104679), match='ITEM 7.'>\n",
      "<re.Match object; span=(2844271, 2844282), match='ITEM&#160;7'>\n",
      "<re.Match object; span=(2864005, 2864017), match='ITEM&#160;8.'>\n",
      "<re.Match object; span=(7890005, 7890017), match='ITEM&#160;9.'>\n",
      "<re.Match object; span=(7890495, 7890508), match='ITEM&#160;9A.'>\n",
      "<re.Match object; span=(7905328, 7905341), match='ITEM&#160;9B.'>\n",
      "<re.Match object; span=(7905751, 7905762), match='ITEM&#160;9'>\n",
      "<re.Match object; span=(7906930, 7906943), match='ITEM&#160;10.'>\n",
      "<re.Match object; span=(7910250, 7910263), match='ITEM&#160;11.'>\n",
      "<re.Match object; span=(7911374, 7911387), match='ITEM&#160;12.'>\n",
      "<re.Match object; span=(7926487, 7926500), match='ITEM&#160;13.'>\n",
      "<re.Match object; span=(7927720, 7927733), match='ITEM&#160;14.'>\n",
      "<re.Match object; span=(7929398, 7929411), match='ITEM&#160;15.'>\n"
     ]
    }
   ],
   "source": [
    "# Write the regex\n",
    "# regex = re.compile(r'(>Item(\\s|&#160;|&nbsp;)(1A|1B|7A|7|8)\\.{0,1})|(ITEM\\s(1A|1B|7A|7|8))')\n",
    "regex = re.compile(r'(>Item(\\s|&#160;|&nbsp;)(1A|1B|2|3|4|5|6|7|7A|8|9A|9B|9|[1][0-5])\\.{0,1})|(ITEM(\\s|&#160;|&nbsp;)(1A|1B|2|3|4|5|6|7|7A|8|9A|9B|9|[1][0-5])\\.{0,1})')\n",
    "\n",
    "# Use finditer to math the regex\n",
    "matches = regex.finditer(document['10-K'])\n",
    "\n",
    "# Write a for loop to print the matches\n",
    "for match in matches:\n",
    "    print(match)"
   ]
  },
  {
   "cell_type": "code",
   "execution_count": 39,
   "id": "b46c654d-0665-42a2-9019-550c73c5d443",
   "metadata": {},
   "outputs": [
    {
     "data": {
      "text/html": [
       "<div>\n",
       "<style scoped>\n",
       "    .dataframe tbody tr th:only-of-type {\n",
       "        vertical-align: middle;\n",
       "    }\n",
       "\n",
       "    .dataframe tbody tr th {\n",
       "        vertical-align: top;\n",
       "    }\n",
       "\n",
       "    .dataframe thead th {\n",
       "        text-align: right;\n",
       "    }\n",
       "</style>\n",
       "<table border=\"1\" class=\"dataframe\">\n",
       "  <thead>\n",
       "    <tr style=\"text-align: right;\">\n",
       "      <th></th>\n",
       "      <th>item</th>\n",
       "      <th>start</th>\n",
       "      <th>end</th>\n",
       "    </tr>\n",
       "  </thead>\n",
       "  <tbody>\n",
       "    <tr>\n",
       "      <th>0</th>\n",
       "      <td>item&amp;#160;1a.</td>\n",
       "      <td>811500</td>\n",
       "      <td>811513</td>\n",
       "    </tr>\n",
       "    <tr>\n",
       "      <th>1</th>\n",
       "      <td>item&amp;#160;1b.</td>\n",
       "      <td>812356</td>\n",
       "      <td>812369</td>\n",
       "    </tr>\n",
       "    <tr>\n",
       "      <th>2</th>\n",
       "      <td>item&amp;#160;2.</td>\n",
       "      <td>813225</td>\n",
       "      <td>813237</td>\n",
       "    </tr>\n",
       "    <tr>\n",
       "      <th>3</th>\n",
       "      <td>item&amp;#160;3.</td>\n",
       "      <td>814078</td>\n",
       "      <td>814090</td>\n",
       "    </tr>\n",
       "    <tr>\n",
       "      <th>4</th>\n",
       "      <td>item&amp;#160;4.</td>\n",
       "      <td>814938</td>\n",
       "      <td>814950</td>\n",
       "    </tr>\n",
       "  </tbody>\n",
       "</table>\n",
       "</div>"
      ],
      "text/plain": [
       "            item   start     end\n",
       "0  item&#160;1a.  811500  811513\n",
       "1  item&#160;1b.  812356  812369\n",
       "2   item&#160;2.  813225  813237\n",
       "3   item&#160;3.  814078  814090\n",
       "4   item&#160;4.  814938  814950"
      ]
     },
     "execution_count": 39,
     "metadata": {},
     "output_type": "execute_result"
    }
   ],
   "source": [
    "# Matches\n",
    "matches = regex.finditer(document['10-K'])\n",
    "\n",
    "# Create the dataframe\n",
    "test_df = pd.DataFrame([(x.group(), x.start(), x.end()) for x in matches])\n",
    "\n",
    "test_df.columns = ['item', 'start', 'end']\n",
    "test_df['item'] = test_df.item.str.lower()\n",
    "\n",
    "# Display the dataframe\n",
    "test_df.head()"
   ]
  },
  {
   "cell_type": "code",
   "execution_count": 41,
   "id": "e49d0311-b3b9-4cb6-b021-06f5b8e89ffd",
   "metadata": {},
   "outputs": [
    {
     "data": {
      "text/html": [
       "<div>\n",
       "<style scoped>\n",
       "    .dataframe tbody tr th:only-of-type {\n",
       "        vertical-align: middle;\n",
       "    }\n",
       "\n",
       "    .dataframe tbody tr th {\n",
       "        vertical-align: top;\n",
       "    }\n",
       "\n",
       "    .dataframe thead th {\n",
       "        text-align: right;\n",
       "    }\n",
       "</style>\n",
       "<table border=\"1\" class=\"dataframe\">\n",
       "  <thead>\n",
       "    <tr style=\"text-align: right;\">\n",
       "      <th></th>\n",
       "      <th>item</th>\n",
       "      <th>start</th>\n",
       "      <th>end</th>\n",
       "    </tr>\n",
       "  </thead>\n",
       "  <tbody>\n",
       "    <tr>\n",
       "      <th>0</th>\n",
       "      <td>item1a</td>\n",
       "      <td>811500</td>\n",
       "      <td>811513</td>\n",
       "    </tr>\n",
       "    <tr>\n",
       "      <th>1</th>\n",
       "      <td>item1b</td>\n",
       "      <td>812356</td>\n",
       "      <td>812369</td>\n",
       "    </tr>\n",
       "    <tr>\n",
       "      <th>2</th>\n",
       "      <td>item2</td>\n",
       "      <td>813225</td>\n",
       "      <td>813237</td>\n",
       "    </tr>\n",
       "    <tr>\n",
       "      <th>3</th>\n",
       "      <td>item3</td>\n",
       "      <td>814078</td>\n",
       "      <td>814090</td>\n",
       "    </tr>\n",
       "    <tr>\n",
       "      <th>4</th>\n",
       "      <td>item4</td>\n",
       "      <td>814938</td>\n",
       "      <td>814950</td>\n",
       "    </tr>\n",
       "  </tbody>\n",
       "</table>\n",
       "</div>"
      ],
      "text/plain": [
       "     item   start     end\n",
       "0  item1a  811500  811513\n",
       "1  item1b  812356  812369\n",
       "2   item2  813225  813237\n",
       "3   item3  814078  814090\n",
       "4   item4  814938  814950"
      ]
     },
     "execution_count": 41,
     "metadata": {},
     "output_type": "execute_result"
    }
   ],
   "source": [
    "# Get rid of unnesesary charcters from the dataframe\n",
    "test_df.replace('&#160;',' ',regex=True,inplace=True)\n",
    "test_df.replace('&nbsp;',' ',regex=True,inplace=True)\n",
    "test_df.replace(' ','',regex=True,inplace=True)\n",
    "test_df.replace('\\.','',regex=True,inplace=True)\n",
    "test_df.replace('>','',regex=True,inplace=True)\n",
    "\n",
    "# display the dataframe\n",
    "test_df.head()"
   ]
  },
  {
   "cell_type": "code",
   "execution_count": 53,
   "id": "2f7f589b-e408-467f-a5a7-ffb19559387e",
   "metadata": {},
   "outputs": [
    {
     "data": {
      "text/html": [
       "<div>\n",
       "<style scoped>\n",
       "    .dataframe tbody tr th:only-of-type {\n",
       "        vertical-align: middle;\n",
       "    }\n",
       "\n",
       "    .dataframe tbody tr th {\n",
       "        vertical-align: top;\n",
       "    }\n",
       "\n",
       "    .dataframe thead th {\n",
       "        text-align: right;\n",
       "    }\n",
       "</style>\n",
       "<table border=\"1\" class=\"dataframe\">\n",
       "  <thead>\n",
       "    <tr style=\"text-align: right;\">\n",
       "      <th></th>\n",
       "      <th>item</th>\n",
       "      <th>start</th>\n",
       "      <th>end</th>\n",
       "    </tr>\n",
       "  </thead>\n",
       "  <tbody>\n",
       "    <tr>\n",
       "      <th>20</th>\n",
       "      <td>item1a</td>\n",
       "      <td>1809543</td>\n",
       "      <td>1809556</td>\n",
       "    </tr>\n",
       "    <tr>\n",
       "      <th>21</th>\n",
       "      <td>item1b</td>\n",
       "      <td>1975382</td>\n",
       "      <td>1975390</td>\n",
       "    </tr>\n",
       "    <tr>\n",
       "      <th>22</th>\n",
       "      <td>item2</td>\n",
       "      <td>1975844</td>\n",
       "      <td>1975851</td>\n",
       "    </tr>\n",
       "    <tr>\n",
       "      <th>23</th>\n",
       "      <td>item3</td>\n",
       "      <td>1977374</td>\n",
       "      <td>1977386</td>\n",
       "    </tr>\n",
       "    <tr>\n",
       "      <th>24</th>\n",
       "      <td>item4</td>\n",
       "      <td>2006440</td>\n",
       "      <td>2006452</td>\n",
       "    </tr>\n",
       "  </tbody>\n",
       "</table>\n",
       "</div>"
      ],
      "text/plain": [
       "      item    start      end\n",
       "20  item1a  1809543  1809556\n",
       "21  item1b  1975382  1975390\n",
       "22   item2  1975844  1975851\n",
       "23   item3  1977374  1977386\n",
       "24   item4  2006440  2006452"
      ]
     },
     "execution_count": 53,
     "metadata": {},
     "output_type": "execute_result"
    }
   ],
   "source": [
    "# Drop duplicates\n",
    "pos_dat = test_df.sort_values('start', ascending=True).drop_duplicates(subset=['item'], keep='last')\n",
    "\n",
    "# Display the dataframe\n",
    "pos_dat.head()"
   ]
  },
  {
   "cell_type": "code",
   "execution_count": 54,
   "id": "41077711-5556-4c35-b268-98faeedd09c3",
   "metadata": {},
   "outputs": [],
   "source": [
    "# Get Item 1a÷\n",
    "# item_1a_raw = document['10-K'][pos_dat['start'].loc['item1a']:pos_d÷at['start'].loc['item1b']]\n",
    "\n",
    "# # Get Item 7\n",
    "# item_7_raw = document['10-K'][pos_dat['start'].loc['item7']:pos_dat['start'].loc['item7a']]\n",
    "\n",
    "# # Get Item 7a\n",
    "# item_7a_raw = document['10-K'][pos_dat['start'].loc['item7a']:pos_dat['start'].loc['item8']]"
   ]
  },
  {
   "cell_type": "code",
   "execution_count": 55,
   "id": "522ec340-70ce-4235-a807-735234b2b3b8",
   "metadata": {},
   "outputs": [],
   "source": [
    "item1a_start = pos_dat[pos_dat['item'] == 'item1a']['start'].values[0]\n",
    "item1b_start = pos_dat[pos_dat['item'] == 'item1b']['start'].values[0]\n",
    "item_1a_raw = document['10-K'][item1a_start:item1b_start]\n"
   ]
  },
  {
   "cell_type": "code",
   "execution_count": 58,
   "id": "044e5c5d-7618-425d-b133-6b91aa930602",
   "metadata": {},
   "outputs": [
    {
     "data": {
      "text/plain": [
       "'ITEM&#160;1A. RISK FACTORS </span></div><div style=\"margin-top:6pt;text-indent:22.5pt\"><span style=\"color:#000000;font-family:\\'Arial\\',sans-serif;font-size:10pt;font-weight:400;line-height:120%\">You should consider carefully the following risks, along with the other information contained in or incorp'"
      ]
     },
     "execution_count": 58,
     "metadata": {},
     "output_type": "execute_result"
    }
   ],
   "source": [
    "item_1a_raw[:300]"
   ]
  },
  {
   "cell_type": "code",
   "execution_count": 59,
   "id": "37a8a48b-5bd4-41b9-a74f-abd4e9bc1d57",
   "metadata": {},
   "outputs": [],
   "source": [
    "item_1a_content = BeautifulSoup(item_1a_raw, 'lxml')"
   ]
  },
  {
   "cell_type": "code",
   "execution_count": 60,
   "id": "52cb643a-f724-4447-a04a-f57e39aa7029",
   "metadata": {},
   "outputs": [
    {
     "name": "stdout",
     "output_type": "stream",
     "text": [
      "<html>\n",
      " <body>\n",
      "  <p>\n",
      "   ITEM 1A. RISK FACTORS\n",
      "  </p>\n",
      "  <div style=\"margin-top:6pt;text-indent:22.5pt\">\n",
      "   <span style=\"color:#000000;font-family:'Arial',sans-serif;font-size:10pt;font-weight:400;line-height:120%\">\n",
      "    You should consider carefully the following risks, along with the other information contained in or incorporated by reference in this Form 10-K. Additional risks and uncertainties also may adversely affect our business and operations. We routinely encounter and address risks, some of which may cause our future results to be materially different than we presently anticipate. The categories of risk we have identified in Item 1A.—\n",
      "   </span>\n",
      "   <span style=\"color:#000000;font-family:'Arial',sans-serif;font-size:10pt;font-style:italic;font-weight:400;line-height:120%\">\n",
      "    <a href=\"#i84f31ef528bc41899c5480059e42eda9_58\" style=\"color:#000000;font-family:'Arial',sans-serif;font-size:10pt;font-style:italic;font-weight:400;line-height:120%;text-decoration:none\">\n",
      "     Risk Factors\n"
     ]
    }
   ],
   "source": [
    "print(item_1a_content.prettify()[0:1000])"
   ]
  },
  {
   "cell_type": "code",
   "execution_count": 61,
   "id": "5ba6af39-0021-463d-a02f-4224dadffa35",
   "metadata": {},
   "outputs": [
    {
     "name": "stdout",
     "output_type": "stream",
     "text": [
      "ITEM 1A. RISK FACTORS \n",
      "\n",
      "You should consider carefully the following risks, along with the other information contained in or incorporated by reference in this Form 10-K. Additional risks and uncertainties also may adversely affect our business and operations. We routinely encounter and address risks, some of which may cause our future results to be materially different than we presently anticipate. The categories of risk we have identified in Item 1A.—\n",
      "\n",
      "Risk Factors\n",
      "\n",
      " include risks associated with our operations, governmental regulation and laws, our indebtedness and financial condition. These risk factors should be read in conjunction with Item 7\n",
      "\n",
      ".—\n",
      "\n",
      "Management's Discussion and Analysis of Financial Condition and Results of Operations\n",
      "\n",
      " \n",
      "\n",
      "in this Form 10-K and the Consolidated Financial Statements and related notes included elsewhere in this Form 10-K. If any of the following events actually occur, our business, financial results and financial condition could be materially adversely affected\n",
      "\n",
      ".\n",
      "\n",
      "Risks Associated with our Operations\n",
      "\n",
      "The operation of power generation, distribution and transmission facilities involves significant risks.\n",
      "\n",
      "We are in the business of generating and distributing electricity, which involves certain risks that can adversely affect financial and operating performance, including:\n",
      "\n",
      "•\n",
      "\n",
      "changes in the availability of our generation facilities or distribution systems due to increases in scheduled and unscheduled plant outages, equipment failure, failure of\n"
     ]
    }
   ],
   "source": [
    "print(item_1a_content.get_text(\"\\n\\n\")[0:1500])"
   ]
  },
  {
   "cell_type": "code",
   "execution_count": null,
   "id": "47a42b77-6ad7-4b52-b0e7-585f3b2a37ad",
   "metadata": {},
   "outputs": [],
   "source": []
  }
 ],
 "metadata": {
  "kernelspec": {
   "display_name": "Python 3 (ipykernel)",
   "language": "python",
   "name": "python3"
  },
  "language_info": {
   "codemirror_mode": {
    "name": "ipython",
    "version": 3
   },
   "file_extension": ".py",
   "mimetype": "text/x-python",
   "name": "python",
   "nbconvert_exporter": "python",
   "pygments_lexer": "ipython3",
   "version": "3.9.13"
  }
 },
 "nbformat": 4,
 "nbformat_minor": 5
}
